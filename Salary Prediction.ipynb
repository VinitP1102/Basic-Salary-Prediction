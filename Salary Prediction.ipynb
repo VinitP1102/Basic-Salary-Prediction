{
 "cells": [
  {
   "cell_type": "markdown",
   "id": "searching-recipe",
   "metadata": {},
   "source": [
    "# Salary Prediction"
   ]
  },
  {
   "cell_type": "code",
   "execution_count": null,
   "id": "developmental-aquarium",
   "metadata": {},
   "outputs": [],
   "source": [
    "# Importing all libraries\n",
    "import pandas as pd\n",
    "import numpy as np\n",
    "import matplotlib.pyplot as plt\n",
    "%matplotlib inline\n",
    "from sklearn.model_selection import train_test_split\n",
    "from sklearn.linear_model import LinearRegression\n",
    "from sklearn import metrics"
   ]
  },
  {
   "cell_type": "code",
   "execution_count": 2,
   "id": "classified-herald",
   "metadata": {},
   "outputs": [
    {
     "data": {
      "text/html": [
       "<div>\n",
       "<style scoped>\n",
       "    .dataframe tbody tr th:only-of-type {\n",
       "        vertical-align: middle;\n",
       "    }\n",
       "\n",
       "    .dataframe tbody tr th {\n",
       "        vertical-align: top;\n",
       "    }\n",
       "\n",
       "    .dataframe thead th {\n",
       "        text-align: right;\n",
       "    }\n",
       "</style>\n",
       "<table border=\"1\" class=\"dataframe\">\n",
       "  <thead>\n",
       "    <tr style=\"text-align: right;\">\n",
       "      <th></th>\n",
       "      <th>YearsExperience</th>\n",
       "      <th>Salary</th>\n",
       "    </tr>\n",
       "  </thead>\n",
       "  <tbody>\n",
       "    <tr>\n",
       "      <th>0</th>\n",
       "      <td>1.1</td>\n",
       "      <td>39343.0</td>\n",
       "    </tr>\n",
       "    <tr>\n",
       "      <th>1</th>\n",
       "      <td>1.3</td>\n",
       "      <td>46205.0</td>\n",
       "    </tr>\n",
       "    <tr>\n",
       "      <th>2</th>\n",
       "      <td>1.5</td>\n",
       "      <td>37731.0</td>\n",
       "    </tr>\n",
       "    <tr>\n",
       "      <th>3</th>\n",
       "      <td>2.0</td>\n",
       "      <td>43525.0</td>\n",
       "    </tr>\n",
       "    <tr>\n",
       "      <th>4</th>\n",
       "      <td>2.2</td>\n",
       "      <td>39891.0</td>\n",
       "    </tr>\n",
       "  </tbody>\n",
       "</table>\n",
       "</div>"
      ],
      "text/plain": [
       "   YearsExperience   Salary\n",
       "0              1.1  39343.0\n",
       "1              1.3  46205.0\n",
       "2              1.5  37731.0\n",
       "3              2.0  43525.0\n",
       "4              2.2  39891.0"
      ]
     },
     "execution_count": 2,
     "metadata": {},
     "output_type": "execute_result"
    }
   ],
   "source": [
    "# Reading the data from the csv file\n",
    "data = pd.read_csv(\"Salary_Data.csv\")\n",
    "data.head()"
   ]
  },
  {
   "cell_type": "code",
   "execution_count": 3,
   "id": "tropical-charge",
   "metadata": {},
   "outputs": [
    {
     "data": {
      "text/plain": [
       "(30, 2)"
      ]
     },
     "execution_count": 3,
     "metadata": {},
     "output_type": "execute_result"
    }
   ],
   "source": [
    "# finding out the shape of the dataset\n",
    "data.shape"
   ]
  },
  {
   "cell_type": "code",
   "execution_count": 4,
   "id": "electoral-tolerance",
   "metadata": {},
   "outputs": [
    {
     "name": "stdout",
     "output_type": "stream",
     "text": [
      "<class 'pandas.core.frame.DataFrame'>\n",
      "RangeIndex: 30 entries, 0 to 29\n",
      "Data columns (total 2 columns):\n",
      " #   Column           Non-Null Count  Dtype  \n",
      "---  ------           --------------  -----  \n",
      " 0   YearsExperience  30 non-null     float64\n",
      " 1   Salary           30 non-null     float64\n",
      "dtypes: float64(2)\n",
      "memory usage: 544.0 bytes\n"
     ]
    }
   ],
   "source": [
    "# With the help of the info() function we can analyse the data given to us\n",
    "#We are checking the data types of all the columns and also checking if there exists any NULL values in any of the columns.\n",
    "data.info()"
   ]
  },
  {
   "cell_type": "code",
   "execution_count": 5,
   "id": "circular-universal",
   "metadata": {},
   "outputs": [
    {
     "data": {
      "image/png": "[encoded data removed]",
      "text/plain": [
       "<Figure size 432x288 with 1 Axes>"
      ]
     },
     "metadata": {
      "needs_background": "light"
     },
     "output_type": "display_data"
    }
   ],
   "source": [
    "# Plotting a graph from the given dataset\n",
    "x=data.YearsExperience\n",
    "y=data.Salary\n",
    "plt.scatter(x,y)\n",
    "plt.title('Years Experience vs Salary')\n",
    "plt.scatter(x, y, color = 'blue')\n",
    "plt.xlabel('Years Experience')\n",
    "plt.ylabel('Salary')\n",
    "plt.grid(True)\n",
    "plt.show()"
   ]
  },
  {
   "cell_type": "code",
   "execution_count": 6,
   "id": "demonstrated-subject",
   "metadata": {},
   "outputs": [
    {
     "data": {
      "text/plain": [
       "0.9569566641435086"
      ]
     },
     "execution_count": 6,
     "metadata": {},
     "output_type": "execute_result"
    }
   ],
   "source": [
    "#Initialising model for Linear Regression\n",
    "model=LinearRegression()\n",
    "\n",
    "#Initialising X and y\n",
    "X = data.YearsExperience.values.reshape(data.YearsExperience.shape[0], 1)\n",
    "y = data.Salary\n",
    "\n",
    "#Fitting the values of X and Y in the Linear regression Model\n",
    "model.fit(X,y)\n",
    "\n",
    "#Printing the accuracy score of the model\n",
    "model.score(X,y)"
   ]
  },
  {
   "cell_type": "code",
   "execution_count": 7,
   "id": "aging-plasma",
   "metadata": {},
   "outputs": [
    {
     "name": "stdout",
     "output_type": "stream",
     "text": [
      "Total number of Samples 30\n",
      "\n",
      "Number of test samples :  6\n",
      "Number of training samples:  24\n"
     ]
    }
   ],
   "source": [
    "# Using sklearn's train_test_split function to split the data into two subsets: training and testing\n",
    "\n",
    "# Splitting the data into 80:20 for Training to Testing ratio for more accuracy\n",
    "X_train, X_test, y_train, y_test = train_test_split(X, y, test_size = 0.2, random_state=46)\n",
    "print(\"Total number of Samples\",X.shape[0])\n",
    "print(\"\\nNumber of test samples : \", X_test.shape[0])\n",
    "print(\"Number of training samples: \",X_train.shape[0])"
   ]
  },
  {
   "cell_type": "code",
   "execution_count": 8,
   "id": "backed-brisbane",
   "metadata": {},
   "outputs": [
    {
     "name": "stdout",
     "output_type": "stream",
     "text": [
      "[9569.04556206]\n",
      "25085.096390915656\n"
     ]
    }
   ],
   "source": [
    "# Re-Initialising the Linear Regression Model\n",
    "model = LinearRegression()\n",
    "# Re-Fitting the model with Training Values that we split into the Linear Regression Model\n",
    "model.fit(X_train, y_train)\n",
    "\n",
    "# Since we have a liner regression problem, we will get a coefficient and\n",
    "#an intercept which we will use to plot a line in the graph\n",
    "print(model.coef_)\n",
    "print(model.intercept_)"
   ]
  },
  {
   "cell_type": "code",
   "execution_count": 9,
   "id": "martial-index",
   "metadata": {},
   "outputs": [
    {
     "data": {
      "image/png": "[encoded data removed]",
      "text/plain": [
       "<Figure size 720x360 with 1 Axes>"
      ]
     },
     "metadata": {
      "needs_background": "light"
     },
     "output_type": "display_data"
    }
   ],
   "source": [
    "# We are now plotting the line in the graph by using the y=mx+c\n",
    "#equation as we have found the coefficient and the intercept from the model\n",
    "\n",
    "#y = mx+c\n",
    "bestfitline = model.coef_*X + model.intercept_\n",
    "\n",
    "#Plotting the figure\n",
    "fig = plt.figure(figsize=(10,5))\n",
    "plt.title('Years Experience vs Salary')\n",
    "plt.grid(True)\n",
    "plt.scatter(X, y, color = 'blue')\n",
    "plt.plot(X, bestfitline, color = 'black')\n",
    "plt.xlabel('Years Experience')\n",
    "plt.ylabel('Salary')\n",
    "plt.show()"
   ]
  },
  {
   "cell_type": "code",
   "execution_count": 10,
   "id": "behind-forty",
   "metadata": {},
   "outputs": [
    {
     "data": {
      "text/plain": [
       "0.9789129767378081"
      ]
     },
     "execution_count": 10,
     "metadata": {},
     "output_type": "execute_result"
    }
   ],
   "source": [
    "# Using .score() to findout the accuracy of the model as this\n",
    "# automates the prediction of the data using X_test and compares it with y_test\n",
    "predict = model.predict(X_test)\n",
    "model.score(X_test, y_test)"
   ]
  },
  {
   "cell_type": "code",
   "execution_count": 13,
   "id": "broad-family",
   "metadata": {},
   "outputs": [
    {
     "name": "stdout",
     "output_type": "stream",
     "text": [
      "Mean Squared Error =  20047385.839594577\n",
      "Root Mean Squared Error =  4477.4307185700345\n",
      "Mean Absolute Error =  3157.784891490273\n",
      "R Score =  0.9789129767378081\n"
     ]
    }
   ],
   "source": [
    "# Getting the MSE, RMSE and MAE using metrics from sklearn to evaluate the model.\n",
    "print(\"Mean Squared Error = \", metrics.mean_squared_error(y_test, predict))\n",
    "print(\"Root Mean Squared Error = \", np.sqrt(metrics.mean_squared_error(y_test, predict)))\n",
    "print(\"Mean Absolute Error = \", metrics.mean_absolute_error(y_test, predict))\n",
    "print(\"R Score = \", metrics.r2_score(y_test, predict))"
   ]
  },
  {
   "cell_type": "code",
   "execution_count": null,
   "id": "undefined-excellence",
   "metadata": {},
   "outputs": [],
   "source": []
  }
 ],
 "metadata": {
  "kernelspec": {
   "display_name": "Python 3",
   "language": "python",
   "name": "python3"
  },
  "language_info": {
   "codemirror_mode": {
    "name": "ipython",
    "version": 3
   },
   "file_extension": ".py",
   "mimetype": "text/x-python",
   "name": "python",
   "nbconvert_exporter": "python",
   "pygments_lexer": "ipython3",
   "version": "3.8.1"
  }
 },
 "nbformat": 4,
 "nbformat_minor": 5
}
